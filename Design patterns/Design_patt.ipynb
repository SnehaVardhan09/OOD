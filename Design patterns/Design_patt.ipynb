{
 "cells": [
  {
   "cell_type": "markdown",
   "metadata": {},
   "source": [
    "* DP are commo architectural approaches\n",
    "* Gang of Four book (1994)\n",
    "* Translated to many OOP languages(c#, Java. C++)\n",
    "* Universally relevant\n",
    "        * internalized in some programming languages\n",
    "        * Libraries\n",
    "        * Your own code\n",
    "* SOLID design (Creational / Structural/ Behaviourial)\n"
   ]
  },
  {
   "cell_type": "markdown",
   "metadata": {},
   "source": [
    "## 1. SOLID Design Principles\n",
    "* Design principles introduced by Robert C. Martin"
   ]
  },
  {
   "cell_type": "markdown",
   "metadata": {},
   "source": [
    "#### Single Responsibility Principle"
   ]
  },
  {
   "cell_type": "code",
   "execution_count": 7,
   "metadata": {},
   "outputs": [
    {
     "name": "stdout",
     "output_type": "stream",
     "text": [
      "journal entries:\n",
      "0:I am sneha vardhan\n",
      "1:I am 27 years old\n"
     ]
    }
   ],
   "source": [
    "class Journal:\n",
    "    def __init__(self):\n",
    "        self.entries = []\n",
    "        self.count = 0\n",
    "    \n",
    "    def add_entry(self, text):        \n",
    "        self.entries.append(f\"{self.count}:{text}\")\n",
    "        self.count +=1\n",
    "\n",
    "    def remove_entry(self, pos):\n",
    "        del self.entries[pos]\n",
    "    \n",
    "    def __str__(self):\n",
    "        return '\\n'.join(self.entries)\n",
    "\n",
    "\n",
    "j = Journal()\n",
    "j.add_entry('I am sneha vardhan')\n",
    "j.add_entry('I am 27 years old')\n",
    "print(f\"journal entries:\\n{j}\")"
   ]
  },
  {
   "cell_type": "code",
   "execution_count": 15,
   "metadata": {},
   "outputs": [
    {
     "name": "stdout",
     "output_type": "stream",
     "text": [
      "0:I am sneha vardhan\n",
      "1:I am 27 years old\n"
     ]
    }
   ],
   "source": [
    "#Now adding secondary responsibility\n",
    "class Journal:\n",
    "    def __init__(self):\n",
    "        self.entries = []\n",
    "        self.count = 0\n",
    "    \n",
    "    def add_entry(self, text):        \n",
    "        self.entries.append(f\"{self.count}:{text}\")\n",
    "        self.count +=1\n",
    "\n",
    "    def remove_entry(self, pos):\n",
    "        del self.entries[pos]\n",
    "    \n",
    "    def __str__(self):\n",
    "        return '\\n'.join(self.entries)\n",
    "\n",
    "    #  def save(self, filename):\n",
    "    #     file = open(filename, \"w\")\n",
    "    #     file.write(str(self))\n",
    "    #     file.close()\n",
    "\n",
    "    # def load(self, filename):\n",
    "    #     pass\n",
    "\n",
    "    # def load_from_web(self, uri):\n",
    "    #     pass\n",
    "\n",
    "class PersistenceManager:\n",
    "    @staticmethod\n",
    "    def save_to_file(journal, filename):\n",
    "        file = open(filename, 'w')\n",
    "        file.write(str(journal))\n",
    "        file.close()\n",
    "\n",
    "\n",
    "\n",
    "j = Journal()\n",
    "j.add_entry('I am sneha vardhan')\n",
    "j.add_entry('I am 27 years old')\n",
    "#print(f\"journal entries:\\n{j}\")\n",
    "\n",
    "#p = PersistenceManager()\n",
    "file = r'C:\\Users\\navee\\Desktop\\programming\\python\\oop\\OOD\\Design patterns\\journal.txt'\n",
    "p.save_to_file(j, file)\n",
    "\n",
    "#verify\n",
    "with open(file) as fh:\n",
    "    print(fh.read())"
   ]
  },
  {
   "cell_type": "markdown",
   "metadata": {},
   "source": [
    "* You don't want to overload your objects with too many responsibilities\n",
    "* Single Responsibility principle basically prevents you from making God objects (Anti-Pattern)\n",
    "* Class should have a single reason to change and that change should be somehow related to its primary responsibility."
   ]
  },
  {
   "cell_type": "code",
   "execution_count": null,
   "metadata": {},
   "outputs": [],
   "source": []
  }
 ],
 "metadata": {
  "kernelspec": {
   "display_name": "ml",
   "language": "python",
   "name": "python3"
  },
  "language_info": {
   "codemirror_mode": {
    "name": "ipython",
    "version": 3
   },
   "file_extension": ".py",
   "mimetype": "text/x-python",
   "name": "python",
   "nbconvert_exporter": "python",
   "pygments_lexer": "ipython3",
   "version": "3.9.18"
  }
 },
 "nbformat": 4,
 "nbformat_minor": 2
}
