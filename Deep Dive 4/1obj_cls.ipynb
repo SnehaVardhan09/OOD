{
 "cells": [
  {
   "cell_type": "markdown",
   "metadata": {},
   "source": [
    "object - a container - contains data -> state -> attributes\n",
    "                       contains functionality -> behavior -> methods\n",
    "\n",
    "my_car - brand / model / year -> state\n",
    "         accelerate / brake / steer -> behavior\n",
    "\n",
    "class have behavior -> they are callable\n",
    "                       this returns an instance of the class\n",
    "                       often called objects, differentiating from class"
   ]
  },
  {
   "cell_type": "code",
   "execution_count": 2,
   "metadata": {},
   "outputs": [],
   "source": [
    "import flask"
   ]
  },
  {
   "cell_type": "code",
   "execution_count": null,
   "metadata": {},
   "outputs": [],
   "source": []
  }
 ],
 "metadata": {
  "kernelspec": {
   "display_name": "ml",
   "language": "python",
   "name": "python3"
  },
  "language_info": {
   "codemirror_mode": {
    "name": "ipython",
    "version": 3
   },
   "file_extension": ".py",
   "mimetype": "text/x-python",
   "name": "python",
   "nbconvert_exporter": "python",
   "pygments_lexer": "ipython3",
   "version": "3.9.18"
  }
 },
 "nbformat": 4,
 "nbformat_minor": 2
}
