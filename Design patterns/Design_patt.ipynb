{
 "cells": [
  {
   "cell_type": "markdown",
   "metadata": {},
   "source": [
    "* DP are commo architectural approaches\n",
    "* Gang of Four book (1994)\n",
    "* Translated to many OOP languages(c#, Java. C++)\n",
    "* Universally relevant\n",
    "        * internalized in some programming languages\n",
    "        * Libraries\n",
    "        * Your own code\n",
    "* SOLID design (Creational / Structural/ Behaviourial)\n"
   ]
  },
  {
   "cell_type": "code",
   "execution_count": 4,
   "metadata": {},
   "outputs": [
    {
     "name": "stdout",
     "output_type": "stream",
     "text": [
      "display function ran\n"
     ]
    }
   ],
   "source": []
  },
  {
   "cell_type": "code",
   "execution_count": null,
   "metadata": {},
   "outputs": [],
   "source": []
  }
 ],
 "metadata": {
  "kernelspec": {
   "display_name": "ml",
   "language": "python",
   "name": "python3"
  },
  "language_info": {
   "codemirror_mode": {
    "name": "ipython",
    "version": 3
   },
   "file_extension": ".py",
   "mimetype": "text/x-python",
   "name": "python",
   "nbconvert_exporter": "python",
   "pygments_lexer": "ipython3",
   "version": "3.9.18"
  }
 },
 "nbformat": 4,
 "nbformat_minor": 2
}
