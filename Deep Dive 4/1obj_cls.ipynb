{
 "cells": [
  {
   "cell_type": "markdown",
   "metadata": {},
   "source": [
    "object - a container - contains data -> state -> attributes\n",
    "                       contains functionality -> behavior -> methods\n",
    "\n",
    "my_car - brand / model / year -> state\n",
    "         accelerate / brake / steer -> behavior\n",
    "\n",
    "class have behavior -> they are callable\n",
    "                       this returns an instance of the class\n",
    "                       often called objects, differentiating from class"
   ]
  },
  {
   "cell_type": "code",
   "execution_count": null,
   "metadata": {},
   "outputs": [],
   "source": []
  }
 ],
 "metadata": {
  "language_info": {
   "name": "python"
  }
 },
 "nbformat": 4,
 "nbformat_minor": 2
}
