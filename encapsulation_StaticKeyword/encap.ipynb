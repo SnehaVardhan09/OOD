{
 "cells": [
  {
   "cell_type": "code",
   "execution_count": 1,
   "metadata": {},
   "outputs": [],
   "source": [
    "class Person:\n",
    "\n",
    "    def __init__(self, name_input, country_input):\n",
    "        self.name = name_input\n",
    "        self.country = country_input\n",
    "    \n",
    "    def greet(self):\n",
    "        if self.country == \"india\":\n",
    "            print(\"Namaste\", self.name)\n",
    "        else:\n",
    "            print(\"Hello\", self.country)"
   ]
  },
  {
   "cell_type": "code",
   "execution_count": 5,
   "metadata": {},
   "outputs": [
    {
     "data": {
      "text/plain": [
       "'sneha'"
      ]
     },
     "execution_count": 5,
     "metadata": {},
     "output_type": "execute_result"
    }
   ],
   "source": [
    "#access attributes\n",
    "p = Person('sneha', 'india')\n",
    "p.name"
   ]
  },
  {
   "cell_type": "code",
   "execution_count": 7,
   "metadata": {},
   "outputs": [
    {
     "name": "stdout",
     "output_type": "stream",
     "text": [
      "Namaste sneha\n"
     ]
    }
   ],
   "source": [
    "#access methods\n",
    "p.greet()"
   ]
  },
  {
   "cell_type": "code",
   "execution_count": 9,
   "metadata": {},
   "outputs": [
    {
     "data": {
      "text/plain": [
       "'male'"
      ]
     },
     "execution_count": 9,
     "metadata": {},
     "output_type": "execute_result"
    }
   ],
   "source": [
    "# Attribute creating outside of the class\n",
    "p.gender = 'male'\n",
    "p.gender"
   ]
  },
  {
   "cell_type": "markdown",
   "metadata": {},
   "source": [
    "### Reference variable"
   ]
  },
  {
   "cell_type": "markdown",
   "metadata": {},
   "source": [
    "* Reference variables hold the objects.\n",
    "* We can create objects without reference variable as well.\n",
    "* An object can have multiple reference variables.\n",
    "* Assigning a new reference variable to an existing object does not create a new object."
   ]
  },
  {
   "cell_type": "code",
   "execution_count": 10,
   "metadata": {},
   "outputs": [],
   "source": [
    "# object without a reference\n",
    "class Person:\n",
    "\n",
    "    def __init__(self):\n",
    "        self.name = 'sneha'\n",
    "        self.gender = 'male'\n",
    "\n",
    "p = Person()  # p is reference of the object which stores the object address\n",
    "q = p\n"
   ]
  },
  {
   "cell_type": "code",
   "execution_count": 11,
   "metadata": {},
   "outputs": [
    {
     "name": "stdout",
     "output_type": "stream",
     "text": [
      "1603495808208\n",
      "1603495808208\n"
     ]
    }
   ],
   "source": [
    "#multiple ref\n",
    "print(id(p))\n",
    "print(id(q))"
   ]
  },
  {
   "cell_type": "code",
   "execution_count": 12,
   "metadata": {},
   "outputs": [
    {
     "name": "stdout",
     "output_type": "stream",
     "text": [
      "sneha\n",
      "sneha\n",
      "vardhan\n",
      "vardhan\n"
     ]
    }
   ],
   "source": [
    "print(p.name)\n",
    "print(q.name)\n",
    "q.name = \"vardhan\"\n",
    "print(q.name)\n",
    "print(p.name)\n"
   ]
  },
  {
   "cell_type": "markdown",
   "metadata": {},
   "source": [
    "### Pass by reference"
   ]
  },
  {
   "cell_type": "code",
   "execution_count": 15,
   "metadata": {},
   "outputs": [
    {
     "name": "stdout",
     "output_type": "stream",
     "text": [
      "Hi i am sneha and i am male\n",
      "vardhan\n",
      "male\n"
     ]
    }
   ],
   "source": [
    "class Person:\n",
    "\n",
    "    def __init__(self, name, gender):\n",
    "        self.name = name\n",
    "        self.gender = gender\n",
    "\n",
    "#outside the class -> function\n",
    "def greet(person): #class as an input\n",
    "    print('Hi i am', person.name, 'and i am', person.gender)\n",
    "    p1 = Person('vardhan', 'male')\n",
    "    return p1      #function is return a object\n",
    "\n",
    "p = Person('sneha', 'male')\n",
    "x = greet(p)\n",
    "print(x.name)\n",
    "print(x.gender)\n"
   ]
  },
  {
   "cell_type": "code",
   "execution_count": 19,
   "metadata": {},
   "outputs": [
    {
     "name": "stdout",
     "output_type": "stream",
     "text": [
      "1603498169584\n",
      "1603498169584\n",
      "1603498169584\n"
     ]
    }
   ],
   "source": [
    "class Person:\n",
    "\n",
    "    def __init__(self, name, gender):\n",
    "        self.name = name\n",
    "        self.gender = gender\n",
    "\n",
    "def greet(person): \n",
    "    print(id(person)) ##########\n",
    "    person.name= 'ankit'\n",
    "    return person\n",
    "         \n",
    "\n",
    "p = Person('sneha', 'male')\n",
    "print(id(p)) ##############\n",
    "p1= greet(p)\n",
    "print(id(p1))\n",
    "\n"
   ]
  },
  {
   "cell_type": "markdown",
   "metadata": {},
   "source": [
    "* objects are mutable like lists, sets"
   ]
  },
  {
   "cell_type": "markdown",
   "metadata": {},
   "source": [
    "### Encapsulation"
   ]
  },
  {
   "cell_type": "code",
   "execution_count": 20,
   "metadata": {},
   "outputs": [],
   "source": [
    "# instanve variable (mul are saved under same variable of object) -> python tutor code visualizer\n",
    "\n",
    "class Person:\n",
    "\n",
    "    def __init__(self, name_input, country_input):\n",
    "        self.name = name_input\n",
    "        self.country = country_input\n",
    "    \n",
    "p1 = Person('sneha', 'india')\n",
    "p2 = Person('vardhan', 'india')"
   ]
  },
  {
   "cell_type": "code",
   "execution_count": 21,
   "metadata": {},
   "outputs": [
    {
     "data": {
      "text/plain": [
       "('sneha', 'vardhan')"
      ]
     },
     "execution_count": 21,
     "metadata": {},
     "output_type": "execute_result"
    }
   ],
   "source": [
    "p1.name, p2.name"
   ]
  },
  {
   "cell_type": "code",
   "execution_count": 22,
   "metadata": {},
   "outputs": [],
   "source": [
    "class Atm:\n",
    "    \n",
    "    def __init__(self):\n",
    "        self.pin = ''\n",
    "        self.balance = 0\n",
    "        self.menu()\n",
    "\n",
    "    def menu(self):\n",
    "        user_input = input(\"\"\"Hi how can i help you?\n",
    "                              1. Press 1 to create pin and deposite amount\n",
    "                              2. Press 2 to change pin\n",
    "                              3. Press 3 to check balance\n",
    "                              4. Press 4 to withdraw\n",
    "                              5. Anything else to exit\"\"\")\n",
    "        if user_input == '1':\n",
    "            self.CreatePin()\n",
    "        elif user_input == '2':\n",
    "            self.ChangePin()\n",
    "        elif user_input == '3':\n",
    "            self.CheckBalance()\n",
    "        elif user_input == '4':\n",
    "            self.withdraw()\n",
    "        else:\n",
    "            exit()\n",
    "        \n",
    "    def CreatePin(self):\n",
    "        user_pin = input('Enter your pin:')\n",
    "        self.pin = user_pin\n",
    "\n",
    "        user_amount = input('Enter your deposite amount:')\n",
    "        self.balance = user_amount\n",
    "    \n",
    "    def ChangePin(self):\n",
    "        old_pin =  input('enter old pin')\n",
    "        \n",
    "        if old_pin == self.pin:\n",
    "            new_pin = input('enter your new pin')\n",
    "            self.pin == new_pin\n",
    "            print('pin changed successfully')\n",
    "        else:\n",
    "            print('Sorry, invalid!')\n",
    "    \n",
    "    def CheckBalance(self):\n",
    "        user_pin = input('enter your pin')\n",
    "        if user_pin == self.pin:\n",
    "            print('your balance', self.balance)\n",
    "        else:\n",
    "            print('Sorry, Invalid Pin')\n",
    "    \n",
    "    def withdraw(self):\n",
    "        user_pin = input('enter your pin')\n",
    "        if user_pin == self.pin:\n",
    "            amount = int(input('enter the amount to withdraw:'))\n",
    "            if amount <= self.balance:\n",
    "                self.balance = self.balance - amount\n",
    "                print('withdrawl successfully complete', self.balance)\n",
    "            else:\n",
    "                print('insufficient balance')\n",
    "        else:\n",
    "            print('Sorry, Invalid Pin')"
   ]
  },
  {
   "cell_type": "code",
   "execution_count": 23,
   "metadata": {},
   "outputs": [],
   "source": [
    "p1 = Atm()"
   ]
  },
  {
   "cell_type": "code",
   "execution_count": 24,
   "metadata": {},
   "outputs": [
    {
     "name": "stdout",
     "output_type": "stream",
     "text": [
      "your balance 1000\n"
     ]
    }
   ],
   "source": [
    "p1.CheckBalance()"
   ]
  },
  {
   "cell_type": "code",
   "execution_count": 25,
   "metadata": {},
   "outputs": [],
   "source": [
    "p1.balance = 'hehehe'"
   ]
  },
  {
   "cell_type": "code",
   "execution_count": 26,
   "metadata": {},
   "outputs": [
    {
     "ename": "TypeError",
     "evalue": "'<=' not supported between instances of 'int' and 'str'",
     "output_type": "error",
     "traceback": [
      "\u001b[1;31m---------------------------------------------------------------------------\u001b[0m",
      "\u001b[1;31mTypeError\u001b[0m                                 Traceback (most recent call last)",
      "Cell \u001b[1;32mIn[26], line 1\u001b[0m\n\u001b[1;32m----> 1\u001b[0m \u001b[43mp1\u001b[49m\u001b[38;5;241;43m.\u001b[39;49m\u001b[43mwithdraw\u001b[49m\u001b[43m(\u001b[49m\u001b[43m)\u001b[49m\n",
      "Cell \u001b[1;32mIn[22], line 54\u001b[0m, in \u001b[0;36mAtm.withdraw\u001b[1;34m(self)\u001b[0m\n\u001b[0;32m     52\u001b[0m \u001b[38;5;28;01mif\u001b[39;00m user_pin \u001b[38;5;241m==\u001b[39m \u001b[38;5;28mself\u001b[39m\u001b[38;5;241m.\u001b[39mpin:\n\u001b[0;32m     53\u001b[0m     amount \u001b[38;5;241m=\u001b[39m \u001b[38;5;28mint\u001b[39m(\u001b[38;5;28minput\u001b[39m(\u001b[38;5;124m'\u001b[39m\u001b[38;5;124menter the amount to withdraw:\u001b[39m\u001b[38;5;124m'\u001b[39m))\n\u001b[1;32m---> 54\u001b[0m     \u001b[38;5;28;01mif\u001b[39;00m \u001b[43mamount\u001b[49m\u001b[43m \u001b[49m\u001b[38;5;241;43m<\u001b[39;49m\u001b[38;5;241;43m=\u001b[39;49m\u001b[43m \u001b[49m\u001b[38;5;28;43mself\u001b[39;49m\u001b[38;5;241;43m.\u001b[39;49m\u001b[43mbalance\u001b[49m:\n\u001b[0;32m     55\u001b[0m         \u001b[38;5;28mself\u001b[39m\u001b[38;5;241m.\u001b[39mbalance \u001b[38;5;241m=\u001b[39m \u001b[38;5;28mself\u001b[39m\u001b[38;5;241m.\u001b[39mbalance \u001b[38;5;241m-\u001b[39m amount\n\u001b[0;32m     56\u001b[0m         \u001b[38;5;28mprint\u001b[39m(\u001b[38;5;124m'\u001b[39m\u001b[38;5;124mwithdrawl successfully complete\u001b[39m\u001b[38;5;124m'\u001b[39m, \u001b[38;5;28mself\u001b[39m\u001b[38;5;241m.\u001b[39mbalance)\n",
      "\u001b[1;31mTypeError\u001b[0m: '<=' not supported between instances of 'int' and 'str'"
     ]
    }
   ],
   "source": [
    "p1.withdraw()"
   ]
  },
  {
   "cell_type": "markdown",
   "metadata": {},
   "source": [
    "* __balance with not be avaliable(made private) as a attribute/ method out of all methods avaliable"
   ]
  },
  {
   "cell_type": "markdown",
   "metadata": {},
   "source": [
    "### Collection of objects"
   ]
  },
  {
   "cell_type": "code",
   "execution_count": 31,
   "metadata": {},
   "outputs": [
    {
     "name": "stdout",
     "output_type": "stream",
     "text": [
      "sneha 27\n",
      "vardhan 27\n"
     ]
    }
   ],
   "source": [
    "class Person:\n",
    "\n",
    "    def __init__(self, name , age):\n",
    "        self.name = name\n",
    "        self.age = age\n",
    "\n",
    "p1 = Person('sneha', '27')\n",
    "p2 = Person('vardhan', '27')\n",
    "\n",
    "L = (p1, p2)\n",
    "\n",
    "for i in L:\n",
    "    print(i.name, i.age)"
   ]
  },
  {
   "cell_type": "code",
   "execution_count": 33,
   "metadata": {},
   "outputs": [
    {
     "name": "stdout",
     "output_type": "stream",
     "text": [
      "sneha\n",
      "vardhan\n"
     ]
    }
   ],
   "source": [
    "class Person:\n",
    "\n",
    "    def __init__(self, name , age):\n",
    "        self.name = name\n",
    "        self.age = age\n",
    "\n",
    "p1 = Person('sneha', '27')\n",
    "p2 = Person('vardhan', '27')\n",
    "\n",
    "D = {'p1': p1, 'p2': p2}\n",
    "\n",
    "for i in D:\n",
    "    print(D[i].name)"
   ]
  },
  {
   "cell_type": "markdown",
   "metadata": {},
   "source": [
    "### Static Variable\n",
    "* Using an instance variable we cannot make a counter\n",
    "* instance variable(Name, pin, balance...) vs static variable (IFSC code, branch...)"
   ]
  },
  {
   "cell_type": "code",
   "execution_count": null,
   "metadata": {},
   "outputs": [],
   "source": [
    "class Atm:\n",
    "\n",
    "    __counter = 1 #Static variable   || __counter for \n",
    "    \n",
    "    def __init__(self):\n",
    "        self.pin = ''\n",
    "        self.balance = 0\n",
    "        self.menu()\n",
    "        self.cid = Atm.counter\n",
    "        Atm.counter = Atm.counter+1\n",
    "\n",
    "    #Utility function\n",
    "    @staticmethod\n",
    "    def get_counter():\n",
    "        return Atm.__counter\n",
    "        \n",
    "    def menu(self):\n",
    "        user_input = input(\"\"\"Hi how can i help you?\n",
    "                              1. Press 1 to create pin and deposite amount\n",
    "                              2. Press 2 to change pin\n",
    "                              3. Press 3 to check balance\n",
    "                              4. Press 4 to withdraw\n",
    "                              5. Anything else to exit\"\"\")\n",
    "        if user_input == '1':\n",
    "            self.CreatePin()\n",
    "        elif user_input == '2':\n",
    "            self.ChangePin()\n",
    "        elif user_input == '3':\n",
    "            self.CheckBalance()\n",
    "        elif user_input == '4':\n",
    "            self.withdraw()\n",
    "        else:\n",
    "            exit()\n",
    "        \n",
    "    def CreatePin(self):\n",
    "        user_pin = input('Enter your pin:')\n",
    "        self.pin = user_pin\n",
    "\n",
    "        user_amount = input('Enter your deposite amount:')\n",
    "        self.balance = user_amount\n",
    "    \n",
    "    def ChangePin(self):\n",
    "        old_pin =  input('enter old pin')\n",
    "        \n",
    "        if old_pin == self.pin:\n",
    "            new_pin = input('enter your new pin')\n",
    "            self.pin == new_pin\n",
    "            print('pin changed successfully')\n",
    "        else:\n",
    "            print('Sorry, invalid!')\n",
    "    \n",
    "    def CheckBalance(self):\n",
    "        user_pin = input('enter your pin')\n",
    "        if user_pin == self.pin:\n",
    "            print('your balance', self.balance)\n",
    "        else:\n",
    "            print('Sorry, Invalid Pin')\n",
    "    \n",
    "    def withdraw(self):\n",
    "        user_pin = input('enter your pin')\n",
    "        if user_pin == self.pin:\n",
    "            amount = int(input('enter the amount to withdraw:'))\n",
    "            if amount <= self.balance:\n",
    "                self.balance = self.balance - amount\n",
    "                print('withdrawl successfully complete', self.balance)\n",
    "            else:\n",
    "                print('insufficient balance')\n",
    "        else:\n",
    "            print('Sorry, Invalid Pin')"
   ]
  }
 ],
 "metadata": {
  "kernelspec": {
   "display_name": "ml",
   "language": "python",
   "name": "python3"
  },
  "language_info": {
   "codemirror_mode": {
    "name": "ipython",
    "version": 3
   },
   "file_extension": ".py",
   "mimetype": "text/x-python",
   "name": "python",
   "nbconvert_exporter": "python",
   "pygments_lexer": "ipython3",
   "version": "3.9.18"
  }
 },
 "nbformat": 4,
 "nbformat_minor": 2
}
