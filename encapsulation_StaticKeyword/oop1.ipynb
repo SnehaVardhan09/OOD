{
 "cells": [
  {
   "cell_type": "markdown",
   "metadata": {},
   "source": [
    "##### Create and view 2D coordinates"
   ]
  },
  {
   "cell_type": "markdown",
   "metadata": {},
   "source": [
    "##### find the distance btw 2 coordinates"
   ]
  },
  {
   "cell_type": "code",
   "execution_count": 31,
   "metadata": {},
   "outputs": [],
   "source": [
    "class Point:\n",
    "\n",
    "    def __init__(self, x, y):\n",
    "        self.x_cord = x\n",
    "        self.y_cord = y\n",
    "    \n",
    "    def __str__(self):\n",
    "        return '({},{})'.format(self.x_cord, self.y_cord)\n",
    "    \n",
    "    def euclidean_distance(self, other):\n",
    "        return ((self.x_cord - other.x_cord)**2 + (self.x_cord - other.y_cord)**2)**0.5\n",
    "    \n",
    "    # Find the distance of a coordinate from origin\n",
    "    def distance_from_origin(self):\n",
    "        return (self.x_cord**2 + self.y_cord**2)**0.5\n",
    "    \n",
    "    # check if a point lies on a given line\n",
    "\n",
    "class Line:\n",
    "\n",
    "    def __init__(self, A, B, C):\n",
    "        self.A = A\n",
    "        self.B = B\n",
    "        self.C = C\n",
    "    \n",
    "    def __str__(self):\n",
    "        return '{}x+{}y+{}z'.format(self.A, self.B, self.C)\n",
    "    \n",
    "    # check if a point lies on a given line\n",
    "    def PointOnLine(line, point):\n",
    "        if line.A*point.x_cord + line.B*point.y_cord + line.C == 0:\n",
    "            return \"lies on the line\"\n",
    "        else:\n",
    "            return \"does not lie on the line\"\n",
    "    \n",
    "    # find the distance between a given 2D point and a given line\n",
    "    def ShortestDistance(line, point):\n",
    "        return abs(line.A * point.x_cord + line.B * point.y_cord + line.C)/ (line.A**2 + line.B**2)\n"
   ]
  },
  {
   "cell_type": "code",
   "execution_count": 35,
   "metadata": {},
   "outputs": [
    {
     "name": "stdout",
     "output_type": "stream",
     "text": [
      "(0,0) (3,-5)\n"
     ]
    }
   ],
   "source": [
    "p1 = Point(0, 0)\n",
    "p2 = Point(3,-5)\n",
    "print(p1, p2)"
   ]
  },
  {
   "cell_type": "code",
   "execution_count": null,
   "metadata": {},
   "outputs": [],
   "source": [
    "p2.distance_from_origin()"
   ]
  },
  {
   "cell_type": "code",
   "execution_count": 33,
   "metadata": {},
   "outputs": [
    {
     "name": "stdout",
     "output_type": "stream",
     "text": [
      "1x+2y+3z\n"
     ]
    }
   ],
   "source": [
    "l1 = Line(1,2, 3)\n",
    "print(l1)"
   ]
  },
  {
   "cell_type": "code",
   "execution_count": 28,
   "metadata": {},
   "outputs": [
    {
     "data": {
      "text/plain": [
       "'does not lie on the line'"
      ]
     },
     "execution_count": 28,
     "metadata": {},
     "output_type": "execute_result"
    }
   ],
   "source": [
    "l1 = Line(3,4,5)\n",
    "l1.PointOnLine(p1)"
   ]
  },
  {
   "cell_type": "code",
   "execution_count": 34,
   "metadata": {},
   "outputs": [
    {
     "data": {
      "text/plain": [
       "0.8"
      ]
     },
     "execution_count": 34,
     "metadata": {},
     "output_type": "execute_result"
    }
   ],
   "source": [
    "l1.ShortestDistance(p2)"
   ]
  },
  {
   "cell_type": "code",
   "execution_count": null,
   "metadata": {},
   "outputs": [],
   "source": []
  }
 ],
 "metadata": {
  "kernelspec": {
   "display_name": "ml",
   "language": "python",
   "name": "python3"
  },
  "language_info": {
   "codemirror_mode": {
    "name": "ipython",
    "version": 3
   },
   "file_extension": ".py",
   "mimetype": "text/x-python",
   "name": "python",
   "nbconvert_exporter": "python",
   "pygments_lexer": "ipython3",
   "version": "3.9.18"
  }
 },
 "nbformat": 4,
 "nbformat_minor": 2
}
